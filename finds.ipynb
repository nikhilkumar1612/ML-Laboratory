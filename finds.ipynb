{
 "cells": [
  {
   "cell_type": "code",
   "execution_count": 1,
   "metadata": {},
   "outputs": [],
   "source": [
    "import csv"
   ]
  },
  {
   "cell_type": "code",
   "execution_count": 4,
   "metadata": {},
   "outputs": [],
   "source": [
    "with open('finds_train.csv','r') as f:\n",
    "    reader=csv.reader(f)\n",
    "    your_list=list(reader)"
   ]
  },
  {
   "cell_type": "code",
   "execution_count": 5,
   "metadata": {},
   "outputs": [
    {
     "data": {
      "text/plain": [
       "[['sunny', 'warm', 'normal', 'strong', 'warm', 'same', 'TRUE'],\n",
       " ['sunny', 'warm', 'high', 'strong', 'warm', 'same', 'TRUE'],\n",
       " ['rainy', 'cold', 'high', 'strong', 'warm', 'change', 'FALSE'],\n",
       " ['sunny', 'warm', 'high', 'strong', 'cool', 'change', 'TRUE']]"
      ]
     },
     "execution_count": 5,
     "metadata": {},
     "output_type": "execute_result"
    }
   ],
   "source": [
    "your_list"
   ]
  },
  {
   "cell_type": "code",
   "execution_count": 6,
   "metadata": {},
   "outputs": [
    {
     "data": {
      "text/plain": [
       "<_csv.reader at 0x7fc682cfc3c8>"
      ]
     },
     "execution_count": 6,
     "metadata": {},
     "output_type": "execute_result"
    }
   ],
   "source": [
    "reader"
   ]
  },
  {
   "cell_type": "code",
   "execution_count": 7,
   "metadata": {},
   "outputs": [
    {
     "data": {
      "text/plain": [
       "<_io.TextIOWrapper name='finds_train.csv' mode='r' encoding='UTF-8'>"
      ]
     },
     "execution_count": 7,
     "metadata": {},
     "output_type": "execute_result"
    }
   ],
   "source": [
    "f"
   ]
  },
  {
   "cell_type": "code",
   "execution_count": 8,
   "metadata": {},
   "outputs": [],
   "source": [
    "h=[['0','0','0','0','0','0']]\n"
   ]
  },
  {
   "cell_type": "code",
   "execution_count": 10,
   "metadata": {},
   "outputs": [
    {
     "name": "stdout",
     "output_type": "stream",
     "text": [
      "['sunny', 'warm', 'normal', 'strong', 'warm', 'same', 'TRUE']\n",
      "['sunny', 'warm', 'high', 'strong', 'warm', 'same', 'TRUE']\n",
      "['rainy', 'cold', 'high', 'strong', 'warm', 'change', 'FALSE']\n",
      "['sunny', 'warm', 'high', 'strong', 'cool', 'change', 'TRUE']\n",
      "Most specific hypothesis is: \n",
      "[['sunny', 'warm', '?', 'strong', '?', '?']]\n"
     ]
    }
   ],
   "source": [
    "for i in your_list:\n",
    "    print(i)\n",
    "    if i[-1]==\"TRUE\":\n",
    "        j=0\n",
    "        for x in i:\n",
    "            if x!=\"TRUE\":\n",
    "                if x!=h[0][j] and h[0][j]=='0':\n",
    "                    h[0][j]=x\n",
    "                elif x!=h[0][j] and h[0][j]!='0':\n",
    "                    h[0][j]='?'\n",
    "                else:\n",
    "                    pass\n",
    "            j=j+1\n",
    "print(\"Most specific hypothesis is: \")\n",
    "print(h)"
   ]
  },
  {
   "cell_type": "code",
   "execution_count": 12,
   "metadata": {},
   "outputs": [],
   "source": [
    "with open(\"finds_test.csv\",'r') as g:\n",
    "    re=csv.reader(g)\n",
    "    b=list(re)\n",
    "    "
   ]
  },
  {
   "cell_type": "code",
   "execution_count": 13,
   "metadata": {},
   "outputs": [
    {
     "data": {
      "text/plain": [
       "[['rainy', 'cold', 'normal', 'strong ', 'cool', 'same'],\n",
       " ['sunny', 'warm', 'normal', 'strong ', 'cool', 'same']]"
      ]
     },
     "execution_count": 13,
     "metadata": {},
     "output_type": "execute_result"
    }
   ],
   "source": [
    "b"
   ]
  },
  {
   "cell_type": "code",
   "execution_count": 14,
   "metadata": {},
   "outputs": [
    {
     "name": "stdout",
     "output_type": "stream",
     "text": [
      "['rainy', 'cold', 'normal', 'strong ', 'cool', 'same']\n",
      "false\n",
      "['sunny', 'warm', 'normal', 'strong ', 'cool', 'same']\n",
      "false\n"
     ]
    }
   ],
   "source": [
    "for i in b:\n",
    "    flag=1\n",
    "    j=0\n",
    "    for y in i:\n",
    "        if(y==h[0][j] or h[0][j]=='?'):\n",
    "            pass\n",
    "        else:\n",
    "            flag=0\n",
    "            break\n",
    "    if(flag==1):\n",
    "        print(i)\n",
    "        print(\"true\")\n",
    "    else:\n",
    "        print(i)\n",
    "        print(\"false\")"
   ]
  },
  {
   "cell_type": "code",
   "execution_count": null,
   "metadata": {},
   "outputs": [],
   "source": []
  }
 ],
 "metadata": {
  "kernelspec": {
   "display_name": "Python 3",
   "language": "python",
   "name": "python3"
  },
  "language_info": {
   "codemirror_mode": {
    "name": "ipython",
    "version": 3
   },
   "file_extension": ".py",
   "mimetype": "text/x-python",
   "name": "python",
   "nbconvert_exporter": "python",
   "pygments_lexer": "ipython3",
   "version": "3.6.9"
  }
 },
 "nbformat": 4,
 "nbformat_minor": 4
}
