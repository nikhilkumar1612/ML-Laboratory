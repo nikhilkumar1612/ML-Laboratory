{
 "cells": [
  {
   "cell_type": "code",
   "execution_count": 23,
   "metadata": {},
   "outputs": [
    {
     "name": "stdout",
     "output_type": "stream",
     "text": [
      "    X1   X2\n",
      "0  5.9  3.2\n",
      "1  4.6  2.9\n",
      "2  6.2  2.8\n",
      "3  4.7  3.2\n",
      "4  5.5  4.2\n",
      "5  5.0  3.0\n",
      "6  4.9  3.1\n",
      "7  6.7  3.1\n",
      "8  5.1  3.8\n",
      "9  6.0  3.0\n",
      "[1 0 1 0 2 0 0 1 2 1]\n"
     ]
    },
    {
     "data": {
      "text/plain": [
       "<matplotlib.collections.PathCollection at 0x7fc7edc29320>"
      ]
     },
     "execution_count": 23,
     "metadata": {},
     "output_type": "execute_result"
    },
    {
     "data": {
      "image/png": "[encoded data removed]",
      "text/plain": [
       "<Figure size 432x288 with 1 Axes>"
      ]
     },
     "metadata": {
      "needs_background": "light"
     },
     "output_type": "display_data"
    }
   ],
   "source": [
    "import numpy as np\n",
    "import matplotlib.pyplot as plt\n",
    "import pandas as pd\n",
    "from sklearn.cluster import KMeans\n",
    "data=pd.read_csv(\"kmeans.csv\")\n",
    "print(data)\n",
    "darray=data.to_numpy()\n",
    "#plt.scatter(data.X1,data.X2)\n",
    "kmeans=KMeans(n_clusters=3)\n",
    "#kmeans.fit(data)\n",
    "y=kmeans.fit_predict(data)\n",
    "clusters=kmeans.cluster_centers_\n",
    "count=0\n",
    "print(y)\n",
    "for i in y:\n",
    "    if i==0:\n",
    "        plt.scatter(darray[count][0],darray[count][1],color=\"green\")\n",
    "    elif i==1:\n",
    "        plt.scatter(darray[count][0],darray[count][1],color=\"blue\")\n",
    "    else:\n",
    "        plt.scatter(darray[count][0],darray[count][1],color=\"red\")\n",
    "    count += 1\n",
    "    \n",
    "plt.scatter(clusters[0][0],clusters[0][1],color=\"black\",marker=\"*\")\n",
    "plt.scatter(clusters[1][0],clusters[1][1],color=\"black\",marker=\"*\")\n",
    "plt.scatter(clusters[2][0],clusters[2][1],color=\"black\",marker=\"*\")"
   ]
  },
  {
   "cell_type": "code",
   "execution_count": null,
   "metadata": {},
   "outputs": [],
   "source": []
  }
 ],
 "metadata": {
  "kernelspec": {
   "display_name": "Python 3",
   "language": "python",
   "name": "python3"
  },
  "language_info": {
   "codemirror_mode": {
    "name": "ipython",
    "version": 3
   },
   "file_extension": ".py",
   "mimetype": "text/x-python",
   "name": "python",
   "nbconvert_exporter": "python",
   "pygments_lexer": "ipython3",
   "version": "3.6.9"
  }
 },
 "nbformat": 4,
 "nbformat_minor": 4
}
